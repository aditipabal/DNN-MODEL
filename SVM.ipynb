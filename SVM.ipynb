{
  "nbformat": 4,
  "nbformat_minor": 0,
  "metadata": {
    "colab": {
      "provenance": []
    },
    "kernelspec": {
      "name": "python3",
      "display_name": "Python 3"
    },
    "language_info": {
      "name": "python"
    }
  },
  "cells": [
    {
      "cell_type": "code",
      "execution_count": null,
      "metadata": {
        "id": "rboL-Rgec7sM"
      },
      "outputs": [],
      "source": [
        "import matplotlib.pyplot as plt\n",
        "%matplotlib inline\n",
        "import pandas as pd\n",
        "from sklearn.model_selection import train_test_split\n",
        "from sklearn.preprocessing import LabelEncoder\n",
        "from sklearn.svm import SVC\n",
        "from sklearn.metrics import confusion_matrix"
      ]
    },
    {
      "cell_type": "code",
      "source": [
        "from google.colab import files\n",
        "files.upload()"
      ],
      "metadata": {
        "colab": {
          "base_uri": "https://localhost:8080/",
          "height": 127
        },
        "id": "r0Wzjx84f8PW",
        "outputId": "0a061f96-6d78-4f13-b602-1292bd750b42"
      },
      "execution_count": null,
      "outputs": [
        {
          "output_type": "display_data",
          "data": {
            "text/plain": [
              "<IPython.core.display.HTML object>"
            ],
            "text/html": [
              "\n",
              "     <input type=\"file\" id=\"files-b47f880f-7110-4f8d-8e87-ccb6344c5007\" name=\"files[]\" multiple disabled\n",
              "        style=\"border:none\" />\n",
              "     <output id=\"result-b47f880f-7110-4f8d-8e87-ccb6344c5007\">\n",
              "      Upload widget is only available when the cell has been executed in the\n",
              "      current browser session. Please rerun this cell to enable.\n",
              "      </output>\n",
              "      <script>// Copyright 2017 Google LLC\n",
              "//\n",
              "// Licensed under the Apache License, Version 2.0 (the \"License\");\n",
              "// you may not use this file except in compliance with the License.\n",
              "// You may obtain a copy of the License at\n",
              "//\n",
              "//      http://www.apache.org/licenses/LICENSE-2.0\n",
              "//\n",
              "// Unless required by applicable law or agreed to in writing, software\n",
              "// distributed under the License is distributed on an \"AS IS\" BASIS,\n",
              "// WITHOUT WARRANTIES OR CONDITIONS OF ANY KIND, either express or implied.\n",
              "// See the License for the specific language governing permissions and\n",
              "// limitations under the License.\n",
              "\n",
              "/**\n",
              " * @fileoverview Helpers for google.colab Python module.\n",
              " */\n",
              "(function(scope) {\n",
              "function span(text, styleAttributes = {}) {\n",
              "  const element = document.createElement('span');\n",
              "  element.textContent = text;\n",
              "  for (const key of Object.keys(styleAttributes)) {\n",
              "    element.style[key] = styleAttributes[key];\n",
              "  }\n",
              "  return element;\n",
              "}\n",
              "\n",
              "// Max number of bytes which will be uploaded at a time.\n",
              "const MAX_PAYLOAD_SIZE = 100 * 1024;\n",
              "\n",
              "function _uploadFiles(inputId, outputId) {\n",
              "  const steps = uploadFilesStep(inputId, outputId);\n",
              "  const outputElement = document.getElementById(outputId);\n",
              "  // Cache steps on the outputElement to make it available for the next call\n",
              "  // to uploadFilesContinue from Python.\n",
              "  outputElement.steps = steps;\n",
              "\n",
              "  return _uploadFilesContinue(outputId);\n",
              "}\n",
              "\n",
              "// This is roughly an async generator (not supported in the browser yet),\n",
              "// where there are multiple asynchronous steps and the Python side is going\n",
              "// to poll for completion of each step.\n",
              "// This uses a Promise to block the python side on completion of each step,\n",
              "// then passes the result of the previous step as the input to the next step.\n",
              "function _uploadFilesContinue(outputId) {\n",
              "  const outputElement = document.getElementById(outputId);\n",
              "  const steps = outputElement.steps;\n",
              "\n",
              "  const next = steps.next(outputElement.lastPromiseValue);\n",
              "  return Promise.resolve(next.value.promise).then((value) => {\n",
              "    // Cache the last promise value to make it available to the next\n",
              "    // step of the generator.\n",
              "    outputElement.lastPromiseValue = value;\n",
              "    return next.value.response;\n",
              "  });\n",
              "}\n",
              "\n",
              "/**\n",
              " * Generator function which is called between each async step of the upload\n",
              " * process.\n",
              " * @param {string} inputId Element ID of the input file picker element.\n",
              " * @param {string} outputId Element ID of the output display.\n",
              " * @return {!Iterable<!Object>} Iterable of next steps.\n",
              " */\n",
              "function* uploadFilesStep(inputId, outputId) {\n",
              "  const inputElement = document.getElementById(inputId);\n",
              "  inputElement.disabled = false;\n",
              "\n",
              "  const outputElement = document.getElementById(outputId);\n",
              "  outputElement.innerHTML = '';\n",
              "\n",
              "  const pickedPromise = new Promise((resolve) => {\n",
              "    inputElement.addEventListener('change', (e) => {\n",
              "      resolve(e.target.files);\n",
              "    });\n",
              "  });\n",
              "\n",
              "  const cancel = document.createElement('button');\n",
              "  inputElement.parentElement.appendChild(cancel);\n",
              "  cancel.textContent = 'Cancel upload';\n",
              "  const cancelPromise = new Promise((resolve) => {\n",
              "    cancel.onclick = () => {\n",
              "      resolve(null);\n",
              "    };\n",
              "  });\n",
              "\n",
              "  // Wait for the user to pick the files.\n",
              "  const files = yield {\n",
              "    promise: Promise.race([pickedPromise, cancelPromise]),\n",
              "    response: {\n",
              "      action: 'starting',\n",
              "    }\n",
              "  };\n",
              "\n",
              "  cancel.remove();\n",
              "\n",
              "  // Disable the input element since further picks are not allowed.\n",
              "  inputElement.disabled = true;\n",
              "\n",
              "  if (!files) {\n",
              "    return {\n",
              "      response: {\n",
              "        action: 'complete',\n",
              "      }\n",
              "    };\n",
              "  }\n",
              "\n",
              "  for (const file of files) {\n",
              "    const li = document.createElement('li');\n",
              "    li.append(span(file.name, {fontWeight: 'bold'}));\n",
              "    li.append(span(\n",
              "        `(${file.type || 'n/a'}) - ${file.size} bytes, ` +\n",
              "        `last modified: ${\n",
              "            file.lastModifiedDate ? file.lastModifiedDate.toLocaleDateString() :\n",
              "                                    'n/a'} - `));\n",
              "    const percent = span('0% done');\n",
              "    li.appendChild(percent);\n",
              "\n",
              "    outputElement.appendChild(li);\n",
              "\n",
              "    const fileDataPromise = new Promise((resolve) => {\n",
              "      const reader = new FileReader();\n",
              "      reader.onload = (e) => {\n",
              "        resolve(e.target.result);\n",
              "      };\n",
              "      reader.readAsArrayBuffer(file);\n",
              "    });\n",
              "    // Wait for the data to be ready.\n",
              "    let fileData = yield {\n",
              "      promise: fileDataPromise,\n",
              "      response: {\n",
              "        action: 'continue',\n",
              "      }\n",
              "    };\n",
              "\n",
              "    // Use a chunked sending to avoid message size limits. See b/62115660.\n",
              "    let position = 0;\n",
              "    do {\n",
              "      const length = Math.min(fileData.byteLength - position, MAX_PAYLOAD_SIZE);\n",
              "      const chunk = new Uint8Array(fileData, position, length);\n",
              "      position += length;\n",
              "\n",
              "      const base64 = btoa(String.fromCharCode.apply(null, chunk));\n",
              "      yield {\n",
              "        response: {\n",
              "          action: 'append',\n",
              "          file: file.name,\n",
              "          data: base64,\n",
              "        },\n",
              "      };\n",
              "\n",
              "      let percentDone = fileData.byteLength === 0 ?\n",
              "          100 :\n",
              "          Math.round((position / fileData.byteLength) * 100);\n",
              "      percent.textContent = `${percentDone}% done`;\n",
              "\n",
              "    } while (position < fileData.byteLength);\n",
              "  }\n",
              "\n",
              "  // All done.\n",
              "  yield {\n",
              "    response: {\n",
              "      action: 'complete',\n",
              "    }\n",
              "  };\n",
              "}\n",
              "\n",
              "scope.google = scope.google || {};\n",
              "scope.google.colab = scope.google.colab || {};\n",
              "scope.google.colab._files = {\n",
              "  _uploadFiles,\n",
              "  _uploadFilesContinue,\n",
              "};\n",
              "})(self);\n",
              "</script> "
            ]
          },
          "metadata": {}
        },
        {
          "output_type": "stream",
          "name": "stdout",
          "text": [
            "Saving Fish.csv to Fish.csv\n"
          ]
        },
        {
          "output_type": "execute_result",
          "data": {
            "text/plain": [
              "{'Fish.csv': b'\\xef\\xbb\\xbfSpecies,Weight,Length1,Length2,Length3,Height,Width\\r\\nBream,242,23.2,25.4,30,11.52,4.02\\r\\nBream,290,24,26.3,31.2,12.48,4.3056\\r\\nBream,340,23.9,26.5,31.1,12.3778,4.6961\\r\\nBream,363,26.3,29,33.5,12.73,4.4555\\r\\nBream,430,26.5,29,34,12.444,5.134\\r\\nBream,450,26.8,29.7,34.7,13.6024,4.9274\\r\\nBream,500,26.8,29.7,34.5,14.1795,5.2785\\r\\nBream,390,27.6,30,35,12.67,4.69\\r\\nBream,450,27.6,30,35.1,14.0049,4.8438\\r\\nBream,500,28.5,30.7,36.2,14.2266,4.9594\\r\\nBream,475,28.4,31,36.2,14.2628,5.1042\\r\\nBream,500,28.7,31,36.2,14.3714,4.8146\\r\\nBream,500,29.1,31.5,36.4,13.7592,4.368\\r\\nBream,340,29.5,32,37.3,13.9129,5.0728\\r\\nBream,600,29.4,32,37.2,14.9544,5.1708\\r\\nBream,600,29.4,32,37.2,15.438,5.58\\r\\nBream,700,30.4,33,38.3,14.8604,5.2854\\r\\nBream,700,30.4,33,38.5,14.938,5.1975\\r\\nBream,610,30.9,33.5,38.6,15.633,5.1338\\r\\nBream,650,31,33.5,38.7,14.4738,5.7276\\r\\nBream,575,31.3,34,39.5,15.1285,5.5695\\r\\nBream,685,31.4,34,39.2,15.9936,5.3704\\r\\nBream,620,31.5,34.5,39.7,15.5227,5.2801\\r\\nBream,680,31.8,35,40.6,15.4686,6.1306\\r\\nBream,700,31.9,35,40.5,16.2405,5.589\\r\\nBream,725,31.8,35,40.9,16.36,6.0532\\r\\nBream,720,32,35,40.6,16.3618,6.09\\r\\nBream,714,32.7,36,41.5,16.517,5.8515\\r\\nBream,850,32.8,36,41.6,16.8896,6.1984\\r\\nBream,1000,33.5,37,42.6,18.957,6.603\\r\\nBream,920,35,38.5,44.1,18.0369,6.3063\\r\\nBream,955,35,38.5,44,18.084,6.292\\r\\nBream,925,36.2,39.5,45.3,18.7542,6.7497\\r\\nBream,975,37.4,41,45.9,18.6354,6.7473\\r\\nBream,950,38,41,46.5,17.6235,6.3705\\r\\nRoach,40,12.9,14.1,16.2,4.1472,2.268\\r\\nRoach,69,16.5,18.2,20.3,5.2983,2.8217\\r\\nRoach,78,17.5,18.8,21.2,5.5756,2.9044\\r\\nRoach,87,18.2,19.8,22.2,5.6166,3.1746\\r\\nRoach,120,18.6,20,22.2,6.216,3.5742\\r\\nRoach,0,19,20.5,22.8,6.4752,3.3516\\r\\nRoach,110,19.1,20.8,23.1,6.1677,3.3957\\r\\nRoach,120,19.4,21,23.7,6.1146,3.2943\\r\\nRoach,150,20.4,22,24.7,5.8045,3.7544\\r\\nRoach,145,20.5,22,24.3,6.6339,3.5478\\r\\nRoach,160,20.5,22.5,25.3,7.0334,3.8203\\r\\nRoach,140,21,22.5,25,6.55,3.325\\r\\nRoach,160,21.1,22.5,25,6.4,3.8\\r\\nRoach,169,22,24,27.2,7.5344,3.8352\\r\\nRoach,161,22,23.4,26.7,6.9153,3.6312\\r\\nRoach,200,22.1,23.5,26.8,7.3968,4.1272\\r\\nRoach,180,23.6,25.2,27.9,7.0866,3.906\\r\\nRoach,290,24,26,29.2,8.8768,4.4968\\r\\nRoach,272,25,27,30.6,8.568,4.7736\\r\\nRoach,390,29.5,31.7,35,9.485,5.355\\r\\nWhitefish,270,23.6,26,28.7,8.3804,4.2476\\r\\nWhitefish,270,24.1,26.5,29.3,8.1454,4.2485\\r\\nWhitefish,306,25.6,28,30.8,8.778,4.6816\\r\\nWhitefish,540,28.5,31,34,10.744,6.562\\r\\nWhitefish,800,33.7,36.4,39.6,11.7612,6.5736\\r\\nWhitefish,1000,37.3,40,43.5,12.354,6.525\\r\\nParkki,55,13.5,14.7,16.5,6.8475,2.3265\\r\\nParkki,60,14.3,15.5,17.4,6.5772,2.3142\\r\\nParkki,90,16.3,17.7,19.8,7.4052,2.673\\r\\nParkki,120,17.5,19,21.3,8.3922,2.9181\\r\\nParkki,150,18.4,20,22.4,8.8928,3.2928\\r\\nParkki,140,19,20.7,23.2,8.5376,3.2944\\r\\nParkki,170,19,20.7,23.2,9.396,3.4104\\r\\nParkki,145,19.8,21.5,24.1,9.7364,3.1571\\r\\nParkki,200,21.2,23,25.8,10.3458,3.6636\\r\\nParkki,273,23,25,28,11.088,4.144\\r\\nParkki,300,24,26,29,11.368,4.234\\r\\nPerch,5.9,7.5,8.4,8.8,2.112,1.408\\r\\nPerch,32,12.5,13.7,14.7,3.528,1.9992\\r\\nPerch,40,13.8,15,16,3.824,2.432\\r\\nPerch,51.5,15,16.2,17.2,4.5924,2.6316\\r\\nPerch,70,15.7,17.4,18.5,4.588,2.9415\\r\\nPerch,100,16.2,18,19.2,5.2224,3.3216\\r\\nPerch,78,16.8,18.7,19.4,5.1992,3.1234\\r\\nPerch,80,17.2,19,20.2,5.6358,3.0502\\r\\nPerch,85,17.8,19.6,20.8,5.1376,3.0368\\r\\nPerch,85,18.2,20,21,5.082,2.772\\r\\nPerch,110,19,21,22.5,5.6925,3.555\\r\\nPerch,115,19,21,22.5,5.9175,3.3075\\r\\nPerch,125,19,21,22.5,5.6925,3.6675\\r\\nPerch,130,19.3,21.3,22.8,6.384,3.534\\r\\nPerch,120,20,22,23.5,6.11,3.4075\\r\\nPerch,120,20,22,23.5,5.64,3.525\\r\\nPerch,130,20,22,23.5,6.11,3.525\\r\\nPerch,135,20,22,23.5,5.875,3.525\\r\\nPerch,110,20,22,23.5,5.5225,3.995\\r\\nPerch,130,20.5,22.5,24,5.856,3.624\\r\\nPerch,150,20.5,22.5,24,6.792,3.624\\r\\nPerch,145,20.7,22.7,24.2,5.9532,3.63\\r\\nPerch,150,21,23,24.5,5.2185,3.626\\r\\nPerch,170,21.5,23.5,25,6.275,3.725\\r\\nPerch,225,22,24,25.5,7.293,3.723\\r\\nPerch,145,22,24,25.5,6.375,3.825\\r\\nPerch,188,22.6,24.6,26.2,6.7334,4.1658\\r\\nPerch,180,23,25,26.5,6.4395,3.6835\\r\\nPerch,197,23.5,25.6,27,6.561,4.239\\r\\nPerch,218,25,26.5,28,7.168,4.144\\r\\nPerch,300,25.2,27.3,28.7,8.323,5.1373\\r\\nPerch,260,25.4,27.5,28.9,7.1672,4.335\\r\\nPerch,265,25.4,27.5,28.9,7.0516,4.335\\r\\nPerch,250,25.4,27.5,28.9,7.2828,4.5662\\r\\nPerch,250,25.9,28,29.4,7.8204,4.2042\\r\\nPerch,300,26.9,28.7,30.1,7.5852,4.6354\\r\\nPerch,320,27.8,30,31.6,7.6156,4.7716\\r\\nPerch,514,30.5,32.8,34,10.03,6.018\\r\\nPerch,556,32,34.5,36.5,10.2565,6.3875\\r\\nPerch,840,32.5,35,37.3,11.4884,7.7957\\r\\nPerch,685,34,36.5,39,10.881,6.864\\r\\nPerch,700,34,36,38.3,10.6091,6.7408\\r\\nPerch,700,34.5,37,39.4,10.835,6.2646\\r\\nPerch,690,34.6,37,39.3,10.5717,6.3666\\r\\nPerch,900,36.5,39,41.4,11.1366,7.4934\\r\\nPerch,650,36.5,39,41.4,11.1366,6.003\\r\\nPerch,820,36.6,39,41.3,12.4313,7.3514\\r\\nPerch,850,36.9,40,42.3,11.9286,7.1064\\r\\nPerch,900,37,40,42.5,11.73,7.225\\r\\nPerch,1015,37,40,42.4,12.3808,7.4624\\r\\nPerch,820,37.1,40,42.5,11.135,6.63\\r\\nPerch,1100,39,42,44.6,12.8002,6.8684\\r\\nPerch,1000,39.8,43,45.2,11.9328,7.2772\\r\\nPerch,1100,40.1,43,45.5,12.5125,7.4165\\r\\nPerch,1000,40.2,43.5,46,12.604,8.142\\r\\nPerch,1000,41.1,44,46.6,12.4888,7.5958\\r\\nPike,200,30,32.3,34.8,5.568,3.3756\\r\\nPike,300,31.7,34,37.8,5.7078,4.158\\r\\nPike,300,32.7,35,38.8,5.9364,4.3844\\r\\nPike,300,34.8,37.3,39.8,6.2884,4.0198\\r\\nPike,430,35.5,38,40.5,7.29,4.5765\\r\\nPike,345,36,38.5,41,6.396,3.977\\r\\nPike,456,40,42.5,45.5,7.28,4.3225\\r\\nPike,510,40,42.5,45.5,6.825,4.459\\r\\nPike,540,40.1,43,45.8,7.786,5.1296\\r\\nPike,500,42,45,48,6.96,4.896\\r\\nPike,567,43.2,46,48.7,7.792,4.87\\r\\nPike,770,44.8,48,51.2,7.68,5.376\\r\\nPike,950,48.3,51.7,55.1,8.9262,6.1712\\r\\nPike,1250,52,56,59.7,10.6863,6.9849\\r\\nPike,1600,56,60,64,9.6,6.144\\r\\nPike,1550,56,60,64,9.6,6.144\\r\\nPike,1650,59,63.4,68,10.812,7.48\\r\\nSmelt,6.7,9.3,9.8,10.8,1.7388,1.0476\\r\\nSmelt,7.5,10,10.5,11.6,1.972,1.16\\r\\nSmelt,7,10.1,10.6,11.6,1.7284,1.1484\\r\\nSmelt,9.7,10.4,11,12,2.196,1.38\\r\\nSmelt,9.8,10.7,11.2,12.4,2.0832,1.2772\\r\\nSmelt,8.7,10.8,11.3,12.6,1.9782,1.2852\\r\\nSmelt,10,11.3,11.8,13.1,2.2139,1.2838\\r\\nSmelt,9.9,11.3,11.8,13.1,2.2139,1.1659\\r\\nSmelt,9.8,11.4,12,13.2,2.2044,1.1484\\r\\nSmelt,12.2,11.5,12.2,13.4,2.0904,1.3936\\r\\nSmelt,13.4,11.7,12.4,13.5,2.43,1.269\\r\\nSmelt,12.2,12.1,13,13.8,2.277,1.2558\\r\\nSmelt,19.7,13.2,14.3,15.2,2.8728,2.0672\\r\\nSmelt,19.9,13.8,15,16.2,2.9322,1.8792\\r\\n'}"
            ]
          },
          "metadata": {},
          "execution_count": 6
        }
      ]
    },
    {
      "cell_type": "code",
      "source": [
        "df= pd.read_csv('/content/Fish.csv')\n",
        "df.head()"
      ],
      "metadata": {
        "colab": {
          "base_uri": "https://localhost:8080/",
          "height": 206
        },
        "id": "M9FtD5P4fTm3",
        "outputId": "708a6ac0-f44b-4354-d55a-75b25409f7a1"
      },
      "execution_count": null,
      "outputs": [
        {
          "output_type": "execute_result",
          "data": {
            "text/plain": [
              "  Species  Weight  Length1  Length2  Length3   Height   Width\n",
              "0   Bream   242.0     23.2     25.4     30.0  11.5200  4.0200\n",
              "1   Bream   290.0     24.0     26.3     31.2  12.4800  4.3056\n",
              "2   Bream   340.0     23.9     26.5     31.1  12.3778  4.6961\n",
              "3   Bream   363.0     26.3     29.0     33.5  12.7300  4.4555\n",
              "4   Bream   430.0     26.5     29.0     34.0  12.4440  5.1340"
            ],
            "text/html": [
              "\n",
              "  <div id=\"df-4634dc7f-4eda-42aa-9fff-3f0d00ca0171\">\n",
              "    <div class=\"colab-df-container\">\n",
              "      <div>\n",
              "<style scoped>\n",
              "    .dataframe tbody tr th:only-of-type {\n",
              "        vertical-align: middle;\n",
              "    }\n",
              "\n",
              "    .dataframe tbody tr th {\n",
              "        vertical-align: top;\n",
              "    }\n",
              "\n",
              "    .dataframe thead th {\n",
              "        text-align: right;\n",
              "    }\n",
              "</style>\n",
              "<table border=\"1\" class=\"dataframe\">\n",
              "  <thead>\n",
              "    <tr style=\"text-align: right;\">\n",
              "      <th></th>\n",
              "      <th>Species</th>\n",
              "      <th>Weight</th>\n",
              "      <th>Length1</th>\n",
              "      <th>Length2</th>\n",
              "      <th>Length3</th>\n",
              "      <th>Height</th>\n",
              "      <th>Width</th>\n",
              "    </tr>\n",
              "  </thead>\n",
              "  <tbody>\n",
              "    <tr>\n",
              "      <th>0</th>\n",
              "      <td>Bream</td>\n",
              "      <td>242.0</td>\n",
              "      <td>23.2</td>\n",
              "      <td>25.4</td>\n",
              "      <td>30.0</td>\n",
              "      <td>11.5200</td>\n",
              "      <td>4.0200</td>\n",
              "    </tr>\n",
              "    <tr>\n",
              "      <th>1</th>\n",
              "      <td>Bream</td>\n",
              "      <td>290.0</td>\n",
              "      <td>24.0</td>\n",
              "      <td>26.3</td>\n",
              "      <td>31.2</td>\n",
              "      <td>12.4800</td>\n",
              "      <td>4.3056</td>\n",
              "    </tr>\n",
              "    <tr>\n",
              "      <th>2</th>\n",
              "      <td>Bream</td>\n",
              "      <td>340.0</td>\n",
              "      <td>23.9</td>\n",
              "      <td>26.5</td>\n",
              "      <td>31.1</td>\n",
              "      <td>12.3778</td>\n",
              "      <td>4.6961</td>\n",
              "    </tr>\n",
              "    <tr>\n",
              "      <th>3</th>\n",
              "      <td>Bream</td>\n",
              "      <td>363.0</td>\n",
              "      <td>26.3</td>\n",
              "      <td>29.0</td>\n",
              "      <td>33.5</td>\n",
              "      <td>12.7300</td>\n",
              "      <td>4.4555</td>\n",
              "    </tr>\n",
              "    <tr>\n",
              "      <th>4</th>\n",
              "      <td>Bream</td>\n",
              "      <td>430.0</td>\n",
              "      <td>26.5</td>\n",
              "      <td>29.0</td>\n",
              "      <td>34.0</td>\n",
              "      <td>12.4440</td>\n",
              "      <td>5.1340</td>\n",
              "    </tr>\n",
              "  </tbody>\n",
              "</table>\n",
              "</div>\n",
              "      <button class=\"colab-df-convert\" onclick=\"convertToInteractive('df-4634dc7f-4eda-42aa-9fff-3f0d00ca0171')\"\n",
              "              title=\"Convert this dataframe to an interactive table.\"\n",
              "              style=\"display:none;\">\n",
              "        \n",
              "  <svg xmlns=\"http://www.w3.org/2000/svg\" height=\"24px\"viewBox=\"0 0 24 24\"\n",
              "       width=\"24px\">\n",
              "    <path d=\"M0 0h24v24H0V0z\" fill=\"none\"/>\n",
              "    <path d=\"M18.56 5.44l.94 2.06.94-2.06 2.06-.94-2.06-.94-.94-2.06-.94 2.06-2.06.94zm-11 1L8.5 8.5l.94-2.06 2.06-.94-2.06-.94L8.5 2.5l-.94 2.06-2.06.94zm10 10l.94 2.06.94-2.06 2.06-.94-2.06-.94-.94-2.06-.94 2.06-2.06.94z\"/><path d=\"M17.41 7.96l-1.37-1.37c-.4-.4-.92-.59-1.43-.59-.52 0-1.04.2-1.43.59L10.3 9.45l-7.72 7.72c-.78.78-.78 2.05 0 2.83L4 21.41c.39.39.9.59 1.41.59.51 0 1.02-.2 1.41-.59l7.78-7.78 2.81-2.81c.8-.78.8-2.07 0-2.86zM5.41 20L4 18.59l7.72-7.72 1.47 1.35L5.41 20z\"/>\n",
              "  </svg>\n",
              "      </button>\n",
              "      \n",
              "  <style>\n",
              "    .colab-df-container {\n",
              "      display:flex;\n",
              "      flex-wrap:wrap;\n",
              "      gap: 12px;\n",
              "    }\n",
              "\n",
              "    .colab-df-convert {\n",
              "      background-color: #E8F0FE;\n",
              "      border: none;\n",
              "      border-radius: 50%;\n",
              "      cursor: pointer;\n",
              "      display: none;\n",
              "      fill: #1967D2;\n",
              "      height: 32px;\n",
              "      padding: 0 0 0 0;\n",
              "      width: 32px;\n",
              "    }\n",
              "\n",
              "    .colab-df-convert:hover {\n",
              "      background-color: #E2EBFA;\n",
              "      box-shadow: 0px 1px 2px rgba(60, 64, 67, 0.3), 0px 1px 3px 1px rgba(60, 64, 67, 0.15);\n",
              "      fill: #174EA6;\n",
              "    }\n",
              "\n",
              "    [theme=dark] .colab-df-convert {\n",
              "      background-color: #3B4455;\n",
              "      fill: #D2E3FC;\n",
              "    }\n",
              "\n",
              "    [theme=dark] .colab-df-convert:hover {\n",
              "      background-color: #434B5C;\n",
              "      box-shadow: 0px 1px 3px 1px rgba(0, 0, 0, 0.15);\n",
              "      filter: drop-shadow(0px 1px 2px rgba(0, 0, 0, 0.3));\n",
              "      fill: #FFFFFF;\n",
              "    }\n",
              "  </style>\n",
              "\n",
              "      <script>\n",
              "        const buttonEl =\n",
              "          document.querySelector('#df-4634dc7f-4eda-42aa-9fff-3f0d00ca0171 button.colab-df-convert');\n",
              "        buttonEl.style.display =\n",
              "          google.colab.kernel.accessAllowed ? 'block' : 'none';\n",
              "\n",
              "        async function convertToInteractive(key) {\n",
              "          const element = document.querySelector('#df-4634dc7f-4eda-42aa-9fff-3f0d00ca0171');\n",
              "          const dataTable =\n",
              "            await google.colab.kernel.invokeFunction('convertToInteractive',\n",
              "                                                     [key], {});\n",
              "          if (!dataTable) return;\n",
              "\n",
              "          const docLinkHtml = 'Like what you see? Visit the ' +\n",
              "            '<a target=\"_blank\" href=https://colab.research.google.com/notebooks/data_table.ipynb>data table notebook</a>'\n",
              "            + ' to learn more about interactive tables.';\n",
              "          element.innerHTML = '';\n",
              "          dataTable['output_type'] = 'display_data';\n",
              "          await google.colab.output.renderOutput(dataTable, element);\n",
              "          const docLink = document.createElement('div');\n",
              "          docLink.innerHTML = docLinkHtml;\n",
              "          element.appendChild(docLink);\n",
              "        }\n",
              "      </script>\n",
              "    </div>\n",
              "  </div>\n",
              "  "
            ]
          },
          "metadata": {},
          "execution_count": 7
        }
      ]
    },
    {
      "cell_type": "code",
      "source": [
        "df.shape"
      ],
      "metadata": {
        "colab": {
          "base_uri": "https://localhost:8080/"
        },
        "id": "jFAkCA4Ogq8m",
        "outputId": "0b40232b-f5b5-43e3-8711-4754d5ef3015"
      },
      "execution_count": null,
      "outputs": [
        {
          "output_type": "execute_result",
          "data": {
            "text/plain": [
              "(159, 7)"
            ]
          },
          "metadata": {},
          "execution_count": 8
        }
      ]
    },
    {
      "cell_type": "markdown",
      "source": [],
      "metadata": {
        "id": "65w7kaWelA68"
      }
    },
    {
      "cell_type": "code",
      "source": [
        "df.isnull().sum()"
      ],
      "metadata": {
        "colab": {
          "base_uri": "https://localhost:8080/"
        },
        "id": "TtbYvBBPg51W",
        "outputId": "8ecefbc3-434f-4f50-96fa-16d3a4ae85c4"
      },
      "execution_count": null,
      "outputs": [
        {
          "output_type": "execute_result",
          "data": {
            "text/plain": [
              "Species    0\n",
              "Weight     0\n",
              "Length1    0\n",
              "Length2    0\n",
              "Length3    0\n",
              "Height     0\n",
              "Width      0\n",
              "dtype: int64"
            ]
          },
          "metadata": {},
          "execution_count": 9
        }
      ]
    },
    {
      "cell_type": "code",
      "source": [
        "x = df.iloc[:,1:]\n",
        "y = df.iloc[: , 0]"
      ],
      "metadata": {
        "id": "iBezzCdqhDCe"
      },
      "execution_count": null,
      "outputs": []
    },
    {
      "cell_type": "code",
      "source": [
        "x"
      ],
      "metadata": {
        "colab": {
          "base_uri": "https://localhost:8080/",
          "height": 424
        },
        "id": "meX5awzqhUWW",
        "outputId": "25feb6f1-b3f6-4de8-e5f0-f06fe03d8180"
      },
      "execution_count": null,
      "outputs": [
        {
          "output_type": "execute_result",
          "data": {
            "text/plain": [
              "     Weight  Length1  Length2  Length3   Height   Width\n",
              "0     242.0     23.2     25.4     30.0  11.5200  4.0200\n",
              "1     290.0     24.0     26.3     31.2  12.4800  4.3056\n",
              "2     340.0     23.9     26.5     31.1  12.3778  4.6961\n",
              "3     363.0     26.3     29.0     33.5  12.7300  4.4555\n",
              "4     430.0     26.5     29.0     34.0  12.4440  5.1340\n",
              "..      ...      ...      ...      ...      ...     ...\n",
              "154    12.2     11.5     12.2     13.4   2.0904  1.3936\n",
              "155    13.4     11.7     12.4     13.5   2.4300  1.2690\n",
              "156    12.2     12.1     13.0     13.8   2.2770  1.2558\n",
              "157    19.7     13.2     14.3     15.2   2.8728  2.0672\n",
              "158    19.9     13.8     15.0     16.2   2.9322  1.8792\n",
              "\n",
              "[159 rows x 6 columns]"
            ],
            "text/html": [
              "\n",
              "  <div id=\"df-547f1c9f-abb0-4b37-bff9-e027ed172c73\">\n",
              "    <div class=\"colab-df-container\">\n",
              "      <div>\n",
              "<style scoped>\n",
              "    .dataframe tbody tr th:only-of-type {\n",
              "        vertical-align: middle;\n",
              "    }\n",
              "\n",
              "    .dataframe tbody tr th {\n",
              "        vertical-align: top;\n",
              "    }\n",
              "\n",
              "    .dataframe thead th {\n",
              "        text-align: right;\n",
              "    }\n",
              "</style>\n",
              "<table border=\"1\" class=\"dataframe\">\n",
              "  <thead>\n",
              "    <tr style=\"text-align: right;\">\n",
              "      <th></th>\n",
              "      <th>Weight</th>\n",
              "      <th>Length1</th>\n",
              "      <th>Length2</th>\n",
              "      <th>Length3</th>\n",
              "      <th>Height</th>\n",
              "      <th>Width</th>\n",
              "    </tr>\n",
              "  </thead>\n",
              "  <tbody>\n",
              "    <tr>\n",
              "      <th>0</th>\n",
              "      <td>242.0</td>\n",
              "      <td>23.2</td>\n",
              "      <td>25.4</td>\n",
              "      <td>30.0</td>\n",
              "      <td>11.5200</td>\n",
              "      <td>4.0200</td>\n",
              "    </tr>\n",
              "    <tr>\n",
              "      <th>1</th>\n",
              "      <td>290.0</td>\n",
              "      <td>24.0</td>\n",
              "      <td>26.3</td>\n",
              "      <td>31.2</td>\n",
              "      <td>12.4800</td>\n",
              "      <td>4.3056</td>\n",
              "    </tr>\n",
              "    <tr>\n",
              "      <th>2</th>\n",
              "      <td>340.0</td>\n",
              "      <td>23.9</td>\n",
              "      <td>26.5</td>\n",
              "      <td>31.1</td>\n",
              "      <td>12.3778</td>\n",
              "      <td>4.6961</td>\n",
              "    </tr>\n",
              "    <tr>\n",
              "      <th>3</th>\n",
              "      <td>363.0</td>\n",
              "      <td>26.3</td>\n",
              "      <td>29.0</td>\n",
              "      <td>33.5</td>\n",
              "      <td>12.7300</td>\n",
              "      <td>4.4555</td>\n",
              "    </tr>\n",
              "    <tr>\n",
              "      <th>4</th>\n",
              "      <td>430.0</td>\n",
              "      <td>26.5</td>\n",
              "      <td>29.0</td>\n",
              "      <td>34.0</td>\n",
              "      <td>12.4440</td>\n",
              "      <td>5.1340</td>\n",
              "    </tr>\n",
              "    <tr>\n",
              "      <th>...</th>\n",
              "      <td>...</td>\n",
              "      <td>...</td>\n",
              "      <td>...</td>\n",
              "      <td>...</td>\n",
              "      <td>...</td>\n",
              "      <td>...</td>\n",
              "    </tr>\n",
              "    <tr>\n",
              "      <th>154</th>\n",
              "      <td>12.2</td>\n",
              "      <td>11.5</td>\n",
              "      <td>12.2</td>\n",
              "      <td>13.4</td>\n",
              "      <td>2.0904</td>\n",
              "      <td>1.3936</td>\n",
              "    </tr>\n",
              "    <tr>\n",
              "      <th>155</th>\n",
              "      <td>13.4</td>\n",
              "      <td>11.7</td>\n",
              "      <td>12.4</td>\n",
              "      <td>13.5</td>\n",
              "      <td>2.4300</td>\n",
              "      <td>1.2690</td>\n",
              "    </tr>\n",
              "    <tr>\n",
              "      <th>156</th>\n",
              "      <td>12.2</td>\n",
              "      <td>12.1</td>\n",
              "      <td>13.0</td>\n",
              "      <td>13.8</td>\n",
              "      <td>2.2770</td>\n",
              "      <td>1.2558</td>\n",
              "    </tr>\n",
              "    <tr>\n",
              "      <th>157</th>\n",
              "      <td>19.7</td>\n",
              "      <td>13.2</td>\n",
              "      <td>14.3</td>\n",
              "      <td>15.2</td>\n",
              "      <td>2.8728</td>\n",
              "      <td>2.0672</td>\n",
              "    </tr>\n",
              "    <tr>\n",
              "      <th>158</th>\n",
              "      <td>19.9</td>\n",
              "      <td>13.8</td>\n",
              "      <td>15.0</td>\n",
              "      <td>16.2</td>\n",
              "      <td>2.9322</td>\n",
              "      <td>1.8792</td>\n",
              "    </tr>\n",
              "  </tbody>\n",
              "</table>\n",
              "<p>159 rows × 6 columns</p>\n",
              "</div>\n",
              "      <button class=\"colab-df-convert\" onclick=\"convertToInteractive('df-547f1c9f-abb0-4b37-bff9-e027ed172c73')\"\n",
              "              title=\"Convert this dataframe to an interactive table.\"\n",
              "              style=\"display:none;\">\n",
              "        \n",
              "  <svg xmlns=\"http://www.w3.org/2000/svg\" height=\"24px\"viewBox=\"0 0 24 24\"\n",
              "       width=\"24px\">\n",
              "    <path d=\"M0 0h24v24H0V0z\" fill=\"none\"/>\n",
              "    <path d=\"M18.56 5.44l.94 2.06.94-2.06 2.06-.94-2.06-.94-.94-2.06-.94 2.06-2.06.94zm-11 1L8.5 8.5l.94-2.06 2.06-.94-2.06-.94L8.5 2.5l-.94 2.06-2.06.94zm10 10l.94 2.06.94-2.06 2.06-.94-2.06-.94-.94-2.06-.94 2.06-2.06.94z\"/><path d=\"M17.41 7.96l-1.37-1.37c-.4-.4-.92-.59-1.43-.59-.52 0-1.04.2-1.43.59L10.3 9.45l-7.72 7.72c-.78.78-.78 2.05 0 2.83L4 21.41c.39.39.9.59 1.41.59.51 0 1.02-.2 1.41-.59l7.78-7.78 2.81-2.81c.8-.78.8-2.07 0-2.86zM5.41 20L4 18.59l7.72-7.72 1.47 1.35L5.41 20z\"/>\n",
              "  </svg>\n",
              "      </button>\n",
              "      \n",
              "  <style>\n",
              "    .colab-df-container {\n",
              "      display:flex;\n",
              "      flex-wrap:wrap;\n",
              "      gap: 12px;\n",
              "    }\n",
              "\n",
              "    .colab-df-convert {\n",
              "      background-color: #E8F0FE;\n",
              "      border: none;\n",
              "      border-radius: 50%;\n",
              "      cursor: pointer;\n",
              "      display: none;\n",
              "      fill: #1967D2;\n",
              "      height: 32px;\n",
              "      padding: 0 0 0 0;\n",
              "      width: 32px;\n",
              "    }\n",
              "\n",
              "    .colab-df-convert:hover {\n",
              "      background-color: #E2EBFA;\n",
              "      box-shadow: 0px 1px 2px rgba(60, 64, 67, 0.3), 0px 1px 3px 1px rgba(60, 64, 67, 0.15);\n",
              "      fill: #174EA6;\n",
              "    }\n",
              "\n",
              "    [theme=dark] .colab-df-convert {\n",
              "      background-color: #3B4455;\n",
              "      fill: #D2E3FC;\n",
              "    }\n",
              "\n",
              "    [theme=dark] .colab-df-convert:hover {\n",
              "      background-color: #434B5C;\n",
              "      box-shadow: 0px 1px 3px 1px rgba(0, 0, 0, 0.15);\n",
              "      filter: drop-shadow(0px 1px 2px rgba(0, 0, 0, 0.3));\n",
              "      fill: #FFFFFF;\n",
              "    }\n",
              "  </style>\n",
              "\n",
              "      <script>\n",
              "        const buttonEl =\n",
              "          document.querySelector('#df-547f1c9f-abb0-4b37-bff9-e027ed172c73 button.colab-df-convert');\n",
              "        buttonEl.style.display =\n",
              "          google.colab.kernel.accessAllowed ? 'block' : 'none';\n",
              "\n",
              "        async function convertToInteractive(key) {\n",
              "          const element = document.querySelector('#df-547f1c9f-abb0-4b37-bff9-e027ed172c73');\n",
              "          const dataTable =\n",
              "            await google.colab.kernel.invokeFunction('convertToInteractive',\n",
              "                                                     [key], {});\n",
              "          if (!dataTable) return;\n",
              "\n",
              "          const docLinkHtml = 'Like what you see? Visit the ' +\n",
              "            '<a target=\"_blank\" href=https://colab.research.google.com/notebooks/data_table.ipynb>data table notebook</a>'\n",
              "            + ' to learn more about interactive tables.';\n",
              "          element.innerHTML = '';\n",
              "          dataTable['output_type'] = 'display_data';\n",
              "          await google.colab.output.renderOutput(dataTable, element);\n",
              "          const docLink = document.createElement('div');\n",
              "          docLink.innerHTML = docLinkHtml;\n",
              "          element.appendChild(docLink);\n",
              "        }\n",
              "      </script>\n",
              "    </div>\n",
              "  </div>\n",
              "  "
            ]
          },
          "metadata": {},
          "execution_count": 11
        }
      ]
    },
    {
      "cell_type": "code",
      "source": [
        "y"
      ],
      "metadata": {
        "colab": {
          "base_uri": "https://localhost:8080/"
        },
        "id": "Y4ZY1eLShYwN",
        "outputId": "8e0b4807-d67f-4988-814f-8fec604605b5"
      },
      "execution_count": null,
      "outputs": [
        {
          "output_type": "execute_result",
          "data": {
            "text/plain": [
              "0      Bream\n",
              "1      Bream\n",
              "2      Bream\n",
              "3      Bream\n",
              "4      Bream\n",
              "       ...  \n",
              "154    Smelt\n",
              "155    Smelt\n",
              "156    Smelt\n",
              "157    Smelt\n",
              "158    Smelt\n",
              "Name: Species, Length: 159, dtype: object"
            ]
          },
          "metadata": {},
          "execution_count": 12
        }
      ]
    },
    {
      "cell_type": "code",
      "source": [
        "labelencoder = LabelEncoder()\n",
        "y = labelencoder.fit_transform(y)"
      ],
      "metadata": {
        "id": "nbAXGUY8ha-l"
      },
      "execution_count": null,
      "outputs": []
    },
    {
      "cell_type": "code",
      "source": [
        "df.dtypes"
      ],
      "metadata": {
        "colab": {
          "base_uri": "https://localhost:8080/"
        },
        "id": "Q5WsvRydh7Em",
        "outputId": "4c964c39-2cc7-475b-d251-7bd459b053af"
      },
      "execution_count": null,
      "outputs": [
        {
          "output_type": "execute_result",
          "data": {
            "text/plain": [
              "Species     object\n",
              "Weight     float64\n",
              "Length1    float64\n",
              "Length2    float64\n",
              "Length3    float64\n",
              "Height     float64\n",
              "Width      float64\n",
              "dtype: object"
            ]
          },
          "metadata": {},
          "execution_count": 14
        }
      ]
    },
    {
      "cell_type": "code",
      "source": [
        "x_train , x_test , y_train , y_test = train_test_split(x,y,test_size=0.2)\n"
      ],
      "metadata": {
        "id": "62Smki6ph-NV"
      },
      "execution_count": null,
      "outputs": []
    },
    {
      "cell_type": "code",
      "source": [
        "model= SVC(kernel = 'linear')"
      ],
      "metadata": {
        "id": "DliAg3DNh-UO"
      },
      "execution_count": null,
      "outputs": []
    },
    {
      "cell_type": "code",
      "source": [
        "model.fit(x_train, y_train)"
      ],
      "metadata": {
        "colab": {
          "base_uri": "https://localhost:8080/",
          "height": 75
        },
        "id": "STbf4AWxh-Xe",
        "outputId": "6baaa536-c660-4eff-b905-053f1aaef990"
      },
      "execution_count": null,
      "outputs": [
        {
          "output_type": "execute_result",
          "data": {
            "text/plain": [
              "SVC(kernel='linear')"
            ],
            "text/html": [
              "<style>#sk-container-id-3 {color: black;background-color: white;}#sk-container-id-3 pre{padding: 0;}#sk-container-id-3 div.sk-toggleable {background-color: white;}#sk-container-id-3 label.sk-toggleable__label {cursor: pointer;display: block;width: 100%;margin-bottom: 0;padding: 0.3em;box-sizing: border-box;text-align: center;}#sk-container-id-3 label.sk-toggleable__label-arrow:before {content: \"▸\";float: left;margin-right: 0.25em;color: #696969;}#sk-container-id-3 label.sk-toggleable__label-arrow:hover:before {color: black;}#sk-container-id-3 div.sk-estimator:hover label.sk-toggleable__label-arrow:before {color: black;}#sk-container-id-3 div.sk-toggleable__content {max-height: 0;max-width: 0;overflow: hidden;text-align: left;background-color: #f0f8ff;}#sk-container-id-3 div.sk-toggleable__content pre {margin: 0.2em;color: black;border-radius: 0.25em;background-color: #f0f8ff;}#sk-container-id-3 input.sk-toggleable__control:checked~div.sk-toggleable__content {max-height: 200px;max-width: 100%;overflow: auto;}#sk-container-id-3 input.sk-toggleable__control:checked~label.sk-toggleable__label-arrow:before {content: \"▾\";}#sk-container-id-3 div.sk-estimator input.sk-toggleable__control:checked~label.sk-toggleable__label {background-color: #d4ebff;}#sk-container-id-3 div.sk-label input.sk-toggleable__control:checked~label.sk-toggleable__label {background-color: #d4ebff;}#sk-container-id-3 input.sk-hidden--visually {border: 0;clip: rect(1px 1px 1px 1px);clip: rect(1px, 1px, 1px, 1px);height: 1px;margin: -1px;overflow: hidden;padding: 0;position: absolute;width: 1px;}#sk-container-id-3 div.sk-estimator {font-family: monospace;background-color: #f0f8ff;border: 1px dotted black;border-radius: 0.25em;box-sizing: border-box;margin-bottom: 0.5em;}#sk-container-id-3 div.sk-estimator:hover {background-color: #d4ebff;}#sk-container-id-3 div.sk-parallel-item::after {content: \"\";width: 100%;border-bottom: 1px solid gray;flex-grow: 1;}#sk-container-id-3 div.sk-label:hover label.sk-toggleable__label {background-color: #d4ebff;}#sk-container-id-3 div.sk-serial::before {content: \"\";position: absolute;border-left: 1px solid gray;box-sizing: border-box;top: 0;bottom: 0;left: 50%;z-index: 0;}#sk-container-id-3 div.sk-serial {display: flex;flex-direction: column;align-items: center;background-color: white;padding-right: 0.2em;padding-left: 0.2em;position: relative;}#sk-container-id-3 div.sk-item {position: relative;z-index: 1;}#sk-container-id-3 div.sk-parallel {display: flex;align-items: stretch;justify-content: center;background-color: white;position: relative;}#sk-container-id-3 div.sk-item::before, #sk-container-id-3 div.sk-parallel-item::before {content: \"\";position: absolute;border-left: 1px solid gray;box-sizing: border-box;top: 0;bottom: 0;left: 50%;z-index: -1;}#sk-container-id-3 div.sk-parallel-item {display: flex;flex-direction: column;z-index: 1;position: relative;background-color: white;}#sk-container-id-3 div.sk-parallel-item:first-child::after {align-self: flex-end;width: 50%;}#sk-container-id-3 div.sk-parallel-item:last-child::after {align-self: flex-start;width: 50%;}#sk-container-id-3 div.sk-parallel-item:only-child::after {width: 0;}#sk-container-id-3 div.sk-dashed-wrapped {border: 1px dashed gray;margin: 0 0.4em 0.5em 0.4em;box-sizing: border-box;padding-bottom: 0.4em;background-color: white;}#sk-container-id-3 div.sk-label label {font-family: monospace;font-weight: bold;display: inline-block;line-height: 1.2em;}#sk-container-id-3 div.sk-label-container {text-align: center;}#sk-container-id-3 div.sk-container {/* jupyter's `normalize.less` sets `[hidden] { display: none; }` but bootstrap.min.css set `[hidden] { display: none !important; }` so we also need the `!important` here to be able to override the default hidden behavior on the sphinx rendered scikit-learn.org. See: https://github.com/scikit-learn/scikit-learn/issues/21755 */display: inline-block !important;position: relative;}#sk-container-id-3 div.sk-text-repr-fallback {display: none;}</style><div id=\"sk-container-id-3\" class=\"sk-top-container\"><div class=\"sk-text-repr-fallback\"><pre>SVC(kernel=&#x27;linear&#x27;)</pre><b>In a Jupyter environment, please rerun this cell to show the HTML representation or trust the notebook. <br />On GitHub, the HTML representation is unable to render, please try loading this page with nbviewer.org.</b></div><div class=\"sk-container\" hidden><div class=\"sk-item\"><div class=\"sk-estimator sk-toggleable\"><input class=\"sk-toggleable__control sk-hidden--visually\" id=\"sk-estimator-id-3\" type=\"checkbox\" checked><label for=\"sk-estimator-id-3\" class=\"sk-toggleable__label sk-toggleable__label-arrow\">SVC</label><div class=\"sk-toggleable__content\"><pre>SVC(kernel=&#x27;linear&#x27;)</pre></div></div></div></div></div>"
            ]
          },
          "metadata": {},
          "execution_count": 33
        }
      ]
    },
    {
      "cell_type": "code",
      "source": [
        "svm_pred = model.predict(x_test)\n",
        "svm_pred"
      ],
      "metadata": {
        "colab": {
          "base_uri": "https://localhost:8080/"
        },
        "id": "FS_kmGr2h-aF",
        "outputId": "21e22886-9559-4120-ddfe-e664a4af3b24"
      },
      "execution_count": null,
      "outputs": [
        {
          "output_type": "execute_result",
          "data": {
            "text/plain": [
              "array([2, 0, 5, 3, 2, 2, 1, 5, 2, 5, 3, 2, 2, 0, 3, 1, 3, 4, 2, 2, 2, 1,\n",
              "       0, 0, 2, 2, 4, 1, 5, 2, 2, 5])"
            ]
          },
          "metadata": {},
          "execution_count": 34
        }
      ]
    },
    {
      "cell_type": "code",
      "source": [
        "y_test"
      ],
      "metadata": {
        "colab": {
          "base_uri": "https://localhost:8080/"
        },
        "id": "8xLUCC3GihMe",
        "outputId": "1cbd1c19-ed72-40a6-f087-507b6502159b"
      },
      "execution_count": null,
      "outputs": [
        {
          "output_type": "execute_result",
          "data": {
            "text/plain": [
              "array([2, 0, 4, 3, 2, 6, 1, 2, 2, 5, 3, 2, 4, 0, 3, 1, 3, 4, 2, 2, 6, 1,\n",
              "       0, 0, 2, 2, 4, 1, 5, 2, 2, 5])"
            ]
          },
          "metadata": {},
          "execution_count": 35
        }
      ]
    },
    {
      "cell_type": "code",
      "source": [
        "accuracy= model.score(x_test, y_test)\n",
        "accuracy"
      ],
      "metadata": {
        "colab": {
          "base_uri": "https://localhost:8080/"
        },
        "id": "YUtE1ttUjNFX",
        "outputId": "bc15b136-0522-4903-c524-85cbfe48a364"
      },
      "execution_count": null,
      "outputs": [
        {
          "output_type": "execute_result",
          "data": {
            "text/plain": [
              "0.84375"
            ]
          },
          "metadata": {},
          "execution_count": 36
        }
      ]
    },
    {
      "cell_type": "code",
      "source": [
        "\n",
        "c_mat = confusion_matrix(y_test , svm_pred)"
      ],
      "metadata": {
        "id": "hkNoTpS8jZRt"
      },
      "execution_count": null,
      "outputs": []
    },
    {
      "cell_type": "code",
      "source": [
        "c_mat"
      ],
      "metadata": {
        "colab": {
          "base_uri": "https://localhost:8080/"
        },
        "id": "7PRE9QXxjhqt",
        "outputId": "caabe189-90a8-4a8d-e20e-47455b6502b5"
      },
      "execution_count": null,
      "outputs": [
        {
          "output_type": "execute_result",
          "data": {
            "text/plain": [
              "array([[ 4,  0,  0,  0,  0,  0,  0],\n",
              "       [ 0,  4,  0,  0,  0,  0,  0],\n",
              "       [ 0,  0, 10,  0,  0,  1,  0],\n",
              "       [ 0,  0,  0,  4,  0,  0,  0],\n",
              "       [ 0,  0,  1,  0,  2,  1,  0],\n",
              "       [ 0,  0,  0,  0,  0,  3,  0],\n",
              "       [ 0,  0,  2,  0,  0,  0,  0]])"
            ]
          },
          "metadata": {},
          "execution_count": 38
        }
      ]
    },
    {
      "cell_type": "code",
      "source": [
        "model.score(x_test, y_test)"
      ],
      "metadata": {
        "colab": {
          "base_uri": "https://localhost:8080/"
        },
        "id": "l1Jg6PWhjnBt",
        "outputId": "6740cd4c-a321-42b2-a967-06e4bb6feb0d"
      },
      "execution_count": null,
      "outputs": [
        {
          "output_type": "execute_result",
          "data": {
            "text/plain": [
              "0.84375"
            ]
          },
          "metadata": {},
          "execution_count": 39
        }
      ]
    }
  ]
}