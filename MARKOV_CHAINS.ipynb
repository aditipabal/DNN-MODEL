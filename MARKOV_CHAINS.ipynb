{
  "nbformat": 4,
  "nbformat_minor": 0,
  "metadata": {
    "colab": {
      "provenance": []
    },
    "kernelspec": {
      "name": "python3",
      "display_name": "Python 3"
    },
    "language_info": {
      "name": "python"
    }
  },
  "cells": [
    {
      "cell_type": "code",
      "execution_count": 1,
      "metadata": {
        "colab": {
          "base_uri": "https://localhost:8080/"
        },
        "id": "ny2ekeKPejvF",
        "outputId": "2be16fe0-9f69-4982-c2c2-0ca3892942ea"
      },
      "outputs": [
        {
          "output_type": "stream",
          "name": "stdout",
          "text": [
            "A ---> E ---> A ---> A ---> E ---> A ---> E ---> A ---> A ---> A ---> E ---> E ---> A ---> A ---> A ---> E ---> A ---> A ---> A ---> A ---> stop\n",
            "left eigen vectors = \n",
            " [[ 0.86824314 -0.70710678]\n",
            " [ 0.49613894  0.70710678]] \n",
            "\n",
            "eigen values = \n",
            " [ 1. +0.j -0.1+0.j]\n"
          ]
        },
        {
          "output_type": "execute_result",
          "data": {
            "text/plain": [
              "[0.6363636363636364, 0.3636363636363636]"
            ]
          },
          "metadata": {},
          "execution_count": 1
        }
      ],
      "source": [
        "# let's import our library\n",
        "import scipy.linalg\n",
        "import numpy as np\n",
        "\n",
        "\n",
        "# Encoding this states to numbers as it\n",
        "# is easier to deal with numbers instead\n",
        "# of words.\n",
        "state = [\"A\", \"E\"]\n",
        "\n",
        "# Assigning the transition matrix to a variable\n",
        "# i.e a numpy 2d matrix.\n",
        "MyMatrix = np.array([[0.6, 0.4], [0.7, 0.3]])\n",
        "\n",
        "# Simulating a random walk on our Markov chain\n",
        "# with 20 steps. Random walk simply means that\n",
        "# we start with an arbitrary state and then we\n",
        "# move along our markov chain.\n",
        "n = 20\n",
        "\n",
        "# decide which state to start with\n",
        "StartingState = 0\n",
        "CurrentState = StartingState\n",
        "\n",
        "# printing the stating state using state\n",
        "# dictionary\n",
        "print(state[CurrentState], \"--->\", end=\" \")\n",
        "\n",
        "while n-1:\n",
        "\t# Deciding the next state using a random.choice()\n",
        "\t# function,that takes list of states and the probability\n",
        "\t# to go to the next states from our current state\n",
        "\tCurrentState = np.random.choice([0, 1], p=MyMatrix[CurrentState])\n",
        "\t\n",
        "\t# printing the path of random walk\n",
        "\tprint(state[CurrentState], \"--->\", end=\" \")\n",
        "\tn -= 1\n",
        "print(\"stop\")\n",
        "\n",
        "# Let us find the stationary distribution of our\n",
        "# Markov chain by Finding Left Eigen Vectors\n",
        "# We only need the left eigen vectors\n",
        "MyValues, left = scipy.linalg.eig(MyMatrix, right=False, left=True)\n",
        "\n",
        "print(\"left eigen vectors = \\n\", left, \"\\n\")\n",
        "print(\"eigen values = \\n\", MyValues)\n",
        "\n",
        "# Pi is a probability distribution so the sum of\n",
        "# the probabilities should be 1 To get that from\n",
        "# the above negative values we just have to normalize\n",
        "pi = left[:, 0]\n",
        "pi_normalized = [(x/np.sum(pi)).real for x in pi]\n",
        "pi_normalized\n"
      ]
    }
  ]
}