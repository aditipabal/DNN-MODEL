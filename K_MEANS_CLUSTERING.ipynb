{
  "nbformat": 4,
  "nbformat_minor": 0,
  "metadata": {
    "colab": {
      "provenance": []
    },
    "kernelspec": {
      "name": "python3",
      "display_name": "Python 3"
    },
    "language_info": {
      "name": "python"
    }
  },
  "cells": [
    {
      "cell_type": "code",
      "execution_count": 1,
      "metadata": {
        "colab": {
          "base_uri": "https://localhost:8080/"
        },
        "id": "Zp9peJgG7oe1",
        "outputId": "538a832c-9853-4c7f-d026-235c00a01421"
      },
      "outputs": [
        {
          "output_type": "stream",
          "name": "stdout",
          "text": [
            "Cluster labels:\n",
            " [2 1 1 1 1 1 1 0 1 2 2 0 1 0 0 1 2 2 0 0 2 0 1 0 0 1 1 0 0 1 1 1 0 1 1 2 0\n",
            " 2 1 2 2 0 0 1 0 1 2 1 0 0 2 1 2 1 1 2 1 0 0 0 0 2 1 0 1 0 1 2 0 1 2 0 2 1\n",
            " 0 0 2 1 0 0 0 1 2 0 1 2 1 1 1 0 1 1 0 0 1 1 1 0 0 1]\n",
            "Cluster centers:\n",
            " [[0.24641814 0.70421084]\n",
            " [0.55239032 0.19630361]\n",
            " [0.87206538 0.67521718]]\n"
          ]
        },
        {
          "output_type": "stream",
          "name": "stderr",
          "text": [
            "/usr/local/lib/python3.9/dist-packages/sklearn/cluster/_kmeans.py:870: FutureWarning: The default value of `n_init` will change from 10 to 'auto' in 1.4. Set the value of `n_init` explicitly to suppress the warning\n",
            "  warnings.warn(\n"
          ]
        }
      ],
      "source": [
        "import numpy as np\n",
        "from sklearn.cluster import KMeans\n",
        "\n",
        "# Generate example data\n",
        "X = np.random.rand(100, 2)  # Generate 100 data points with 2 features each\n",
        "\n",
        "# Initialize K-means clustering algorithm\n",
        "kmeans = KMeans(n_clusters=3)  # Specify the number of clusters\n",
        "\n",
        "# Fit the algorithm to the data\n",
        "kmeans.fit(X)\n",
        "\n",
        "# Get the cluster labels for each data point\n",
        "labels = kmeans.labels_\n",
        "\n",
        "# Get the cluster centers\n",
        "centers = kmeans.cluster_centers_\n",
        "\n",
        "# Print the results\n",
        "print(\"Cluster labels:\\n\", labels)\n",
        "print(\"Cluster centers:\\n\", centers)\n"
      ]
    }
  ]
}